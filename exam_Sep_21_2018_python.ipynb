{
 "cells": [
  {
   "cell_type": "markdown",
   "metadata": {},
   "source": [
    "Before you turn this problem in, make sure everything runs as expected. First, **restart the kernel** (in the menubar, select Kernel$\\rightarrow$Restart) and then **run all cells** (in the menubar, select Cell$\\rightarrow$Run All).\n",
    "\n",
    "Make sure you fill in any place that says `YOUR CODE HERE` or \"YOUR ANSWER HERE\", as well as your name and collaborators below:"
   ]
  },
  {
   "cell_type": "code",
   "execution_count": 1,
   "metadata": {},
   "outputs": [],
   "source": [
    "NAME = \"Sara Manders, #2009906#\"\n",
    "COLLABORATORS = \"\""
   ]
  },
  {
   "cell_type": "markdown",
   "metadata": {},
   "source": [
    "---"
   ]
  },
  {
   "cell_type": "markdown",
   "metadata": {
    "deletable": false,
    "editable": false,
    "nbgrader": {
     "checksum": "e53eb7da4b90cccdbeb5924177a0d295",
     "grade": false,
     "grade_id": "cell-bace731f185b39bb",
     "locked": true,
     "schema_version": 1,
     "solution": false
    }
   },
   "source": [
    "Fill in the cell above to provide us with your name and student number, like\n",
    "\n",
    "NAME = \"Adam Smith, #student number#\"\n",
    "\n",
    "where you replace \"#student number#\" with your ... (very good!)\n",
    "\n",
    "Unfortunately, you are not allowed to work with \"COLLABORATORS\" in this exam."
   ]
  },
  {
   "cell_type": "markdown",
   "metadata": {
    "deletable": false,
    "editable": false,
    "nbgrader": {
     "checksum": "54f2a7cc5a4285f9082c5f4f2ff532f6",
     "grade": false,
     "grade_id": "cell-895e9a7b94992ec9",
     "locked": true,
     "schema_version": 1,
     "solution": false
    }
   },
   "source": [
    "# exam September 21st, 2018\n",
    "\n",
    "With this python part of the exam you can earn at max. 4 points.\n",
    "\n"
   ]
  },
  {
   "cell_type": "markdown",
   "metadata": {
    "deletable": false,
    "editable": false,
    "nbgrader": {
     "checksum": "611902f9d15318425217ea7c9329d3c4",
     "grade": false,
     "grade_id": "cell-540987818af25557",
     "locked": true,
     "schema_version": 1,
     "solution": false
    }
   },
   "source": [
    "\n",
    "In the first cell of the notebook, give us your name and student number in the way indicated above. \n",
    "\n",
    "Fill in the notebook (see below for code cells and text cells that you need to fill in).\n",
    "\n",
    "If you look at the menus above (File, Edit, View etc.), there is one called \"Cell\". If you click on this, you can change the \"Cell Type\". Choose \"Code\" when you are typing python or R code. Choose \"Markdown\" when you are typing, well, markdown.\n",
    "\n",
    "When you finish the notebook, make sure that you **save it with the output of your code included**. \n",
    "\n",
    "Then put it on github, e.g. by dragging it onto github (see instructions below). \n",
    "\n",
    "Finally, add a link to your README file with the name of this exam: \"Exam September 21, 2018\".\n",
    "\n"
   ]
  },
  {
   "cell_type": "markdown",
   "metadata": {
    "deletable": false,
    "editable": false,
    "nbgrader": {
     "checksum": "fbb9342b1fc9100447270d34e2af2d0b",
     "grade": false,
     "grade_id": "cell-e1cf88cb799f1f43",
     "locked": true,
     "schema_version": 1,
     "solution": false
    }
   },
   "source": [
    "## Generating and plotting data\n",
    "\n",
    "We start by importing the usual libraries."
   ]
  },
  {
   "cell_type": "code",
   "execution_count": 2,
   "metadata": {
    "deletable": false,
    "editable": false,
    "nbgrader": {
     "checksum": "7bd770ef54db47c3b6c8d0e31f6baef6",
     "grade": false,
     "grade_id": "cell-b895769bf40e183a",
     "locked": true,
     "schema_version": 1,
     "solution": false
    }
   },
   "outputs": [],
   "source": [
    "import matplotlib.pyplot as plt\n",
    "import pandas as pd\n",
    "import numpy as np\n",
    "from scipy import optimize\n",
    "%matplotlib inline"
   ]
  },
  {
   "cell_type": "markdown",
   "metadata": {
    "deletable": false,
    "editable": false,
    "nbgrader": {
     "checksum": "1133b2e8cbde213d1adfe10ae743bcb3",
     "grade": false,
     "grade_id": "cell-83284c4090d6de8c",
     "locked": true,
     "schema_version": 1,
     "solution": false
    }
   },
   "source": [
    "#### a) [0.5 point] Explain in words what the following code does. "
   ]
  },
  {
   "cell_type": "code",
   "execution_count": 3,
   "metadata": {
    "deletable": false,
    "editable": false,
    "nbgrader": {
     "checksum": "bc85672d4250f9fa3da40069544edd8a",
     "grade": false,
     "grade_id": "cell-7770128c0a989c60",
     "locked": true,
     "schema_version": 1,
     "solution": false
    }
   },
   "outputs": [],
   "source": [
    "n_observations = 100\n",
    "x = np.random.uniform(0,2,size=n_observations)\n",
    "df = pd.DataFrame({'x': x})"
   ]
  },
  {
   "cell_type": "markdown",
   "metadata": {
    "deletable": false,
    "nbgrader": {
     "checksum": "cae5873581f8c1e95ad12b5596742e37",
     "grade": true,
     "grade_id": "cell-8a5761555a34b60b",
     "locked": false,
     "points": 0.5,
     "schema_version": 1,
     "solution": true
    }
   },
   "source": [
    "'np.random.unifor(0,2, size=n_observations)' draws a random sample with a uniform distribution with low boundary 0 and high boundary 2, size=n_observations gives the shape of the data, in this case 100 observations/integers (=100 rows).\n",
    "'df = pd.DataFrame({'x' : x})' shows a dataframe with data 'x' (x = np.random.uniform(0,2,size=n_observations)) and index x (so x will be the name of the column)."
   ]
  },
  {
   "cell_type": "code",
   "execution_count": 4,
   "metadata": {},
   "outputs": [
    {
     "name": "stdout",
     "output_type": "stream",
     "text": [
      "           x\n",
      "0   1.727597\n",
      "1   0.946793\n",
      "2   0.407761\n",
      "3   0.271201\n",
      "4   0.086955\n",
      "5   1.476615\n",
      "6   1.884439\n",
      "7   1.907377\n",
      "8   0.242583\n",
      "9   0.363354\n",
      "10  1.555161\n",
      "11  1.168513\n",
      "12  1.505515\n",
      "13  1.337848\n",
      "14  0.348914\n",
      "15  1.818373\n",
      "16  1.208959\n",
      "17  1.307557\n",
      "18  0.948943\n",
      "19  0.113801\n",
      "20  0.317235\n",
      "21  0.511121\n",
      "22  0.524485\n",
      "23  1.654408\n",
      "24  1.710454\n",
      "25  0.577739\n",
      "26  0.452091\n",
      "27  1.441763\n",
      "28  1.539941\n",
      "29  1.307211\n",
      "..       ...\n",
      "70  1.260767\n",
      "71  0.306508\n",
      "72  1.422040\n",
      "73  0.107591\n",
      "74  0.423826\n",
      "75  1.294015\n",
      "76  0.329035\n",
      "77  0.956404\n",
      "78  1.913117\n",
      "79  1.339497\n",
      "80  0.444318\n",
      "81  0.918939\n",
      "82  1.394427\n",
      "83  1.507093\n",
      "84  1.655502\n",
      "85  0.288296\n",
      "86  0.610007\n",
      "87  1.061720\n",
      "88  0.297992\n",
      "89  1.035652\n",
      "90  1.601991\n",
      "91  1.842298\n",
      "92  0.536611\n",
      "93  0.453064\n",
      "94  0.057043\n",
      "95  1.621940\n",
      "96  1.704968\n",
      "97  0.653150\n",
      "98  0.505370\n",
      "99  1.616911\n",
      "\n",
      "[100 rows x 1 columns]\n"
     ]
    }
   ],
   "source": [
    "print(df)"
   ]
  },
  {
   "cell_type": "markdown",
   "metadata": {
    "deletable": false,
    "editable": false,
    "nbgrader": {
     "checksum": "30021008cb6073d160066f0435f60950",
     "grade": false,
     "grade_id": "cell-1a9c57d4d1fc34dc",
     "locked": true,
     "schema_version": 1,
     "solution": false
    }
   },
   "source": [
    "Now we are going to add some columns to the dataframe `df`."
   ]
  },
  {
   "cell_type": "markdown",
   "metadata": {
    "deletable": false,
    "editable": false,
    "nbgrader": {
     "checksum": "89171c99b0cc926935c561c0e75d0eef",
     "grade": false,
     "grade_id": "cell-3b8ee172d9950128",
     "locked": true,
     "schema_version": 1,
     "solution": false
    }
   },
   "source": [
    "#### b) [0.5 points] Add two columns to the data frame: (i) column `y` where $y=3*x+5$ and (ii) column `z` where $z = (x-1)^2$."
   ]
  },
  {
   "cell_type": "code",
   "execution_count": 5,
   "metadata": {
    "deletable": false,
    "nbgrader": {
     "checksum": "3b93c97ec42f6da5773b2c6beb2a8ec2",
     "grade": true,
     "grade_id": "cell-a5e7853f661e19b2",
     "locked": false,
     "points": 0.5,
     "schema_version": 1,
     "solution": true
    }
   },
   "outputs": [
    {
     "name": "stdout",
     "output_type": "stream",
     "text": [
      "\n",
      "New DataFrame after inserting 'y' and 'z' columns\n",
      "           x          y         z\n",
      "0   1.727597  10.182792  0.529398\n",
      "1   0.946793   7.840378  0.002831\n",
      "2   0.407761   6.223284  0.350747\n",
      "3   0.271201   5.813603  0.531148\n",
      "4   0.086955   5.260866  0.833651\n",
      "5   1.476615   9.429845  0.227162\n",
      "6   1.884439  10.653317  0.782232\n",
      "7   1.907377  10.722132  0.823334\n",
      "8   0.242583   5.727749  0.573681\n",
      "9   0.363354   6.090062  0.405318\n",
      "10  1.555161   9.665482  0.308204\n",
      "11  1.168513   8.505538  0.028396\n",
      "12  1.505515   9.516545  0.255546\n",
      "13  1.337848   9.013543  0.114141\n",
      "14  0.348914   6.046741  0.423913\n",
      "15  1.818373  10.455118  0.669734\n",
      "16  1.208959   8.626876  0.043664\n",
      "17  1.307557   8.922670  0.094591\n",
      "18  0.948943   7.846828  0.002607\n",
      "19  0.113801   5.341402  0.785349\n",
      "20  0.317235   5.951704  0.466168\n",
      "21  0.511121   6.533363  0.239003\n",
      "22  0.524485   6.573454  0.226115\n",
      "23  1.654408   9.963223  0.428249\n",
      "24  1.710454  10.131362  0.504745\n",
      "25  0.577739   6.733216  0.178305\n",
      "26  0.452091   6.356274  0.300204\n",
      "27  1.441763   9.325290  0.195155\n",
      "28  1.539941   9.619824  0.291537\n",
      "29  1.307211   8.921633  0.094379\n",
      "..       ...        ...       ...\n",
      "70  1.260767   8.782302  0.068000\n",
      "71  0.306508   5.919525  0.480931\n",
      "72  1.422040   9.266120  0.178118\n",
      "73  0.107591   5.322773  0.796394\n",
      "74  0.423826   6.271477  0.331977\n",
      "75  1.294015   8.882044  0.086445\n",
      "76  0.329035   5.987105  0.450194\n",
      "77  0.956404   7.869212  0.001901\n",
      "78  1.913117  10.739351  0.833783\n",
      "79  1.339497   9.018491  0.115258\n",
      "80  0.444318   6.332955  0.308782\n",
      "81  0.918939   7.756816  0.006571\n",
      "82  1.394427   9.183281  0.155573\n",
      "83  1.507093   9.521279  0.257143\n",
      "84  1.655502   9.966505  0.429683\n",
      "85  0.288296   5.864889  0.506522\n",
      "86  0.610007   6.830020  0.152095\n",
      "87  1.061720   8.185159  0.003809\n",
      "88  0.297992   5.893977  0.492815\n",
      "89  1.035652   8.106956  0.001271\n",
      "90  1.601991   9.805973  0.362393\n",
      "91  1.842298  10.526894  0.709466\n",
      "92  0.536611   6.609832  0.214730\n",
      "93  0.453064   6.359192  0.299139\n",
      "94  0.057043   5.171129  0.889168\n",
      "95  1.621940   9.865819  0.386809\n",
      "96  1.704968  10.114904  0.496980\n",
      "97  0.653150   6.959449  0.120305\n",
      "98  0.505370   6.516110  0.244659\n",
      "99  1.616911   9.850732  0.380579\n",
      "\n",
      "[100 rows x 3 columns]\n"
     ]
    }
   ],
   "source": [
    "y = 3*x + 5\n",
    "z = (x-1)**2\n",
    "df['y'] = y\n",
    "\n",
    "df['z'] = z\n",
    "print(\"\\nNew DataFrame after inserting 'y' and 'z' columns\")\n",
    "print(df)"
   ]
  },
  {
   "cell_type": "markdown",
   "metadata": {
    "deletable": false,
    "editable": false,
    "nbgrader": {
     "checksum": "42f4e83dc3792b0d2a08cda8eb7d4405",
     "grade": false,
     "grade_id": "cell-4b33762aa4a601fe",
     "locked": true,
     "schema_version": 1,
     "solution": false
    }
   },
   "source": [
    "#### c) [0.5 point] Calculate the means and standard deviations for `x` and `y`. \n",
    "\n",
    "[hint: you can do this with one command or with four separate commands]"
   ]
  },
  {
   "cell_type": "code",
   "execution_count": 6,
   "metadata": {
    "deletable": false,
    "nbgrader": {
     "checksum": "024a1519155d681b57c85292df535a65",
     "grade": true,
     "grade_id": "cell-5ee215676b91f504",
     "locked": false,
     "points": 0.5,
     "schema_version": 1,
     "solution": true
    }
   },
   "outputs": [
    {
     "name": "stdout",
     "output_type": "stream",
     "text": [
      "\n",
      "Mean of x\n",
      "1.02044409895\n",
      "\n",
      "Standard deviation of x\n",
      "0.572878168389\n",
      "\n",
      "Mean of y\n",
      "8.06133229686\n",
      "\n",
      "Standard deviation of y\n",
      "1.71863450517\n"
     ]
    }
   ],
   "source": [
    "mean_x = np.mean(x)\n",
    "print(\"\\nMean of x\")\n",
    "print(mean_x)\n",
    "stdev_x = np.std(x)\n",
    "print(\"\\nStandard deviation of x\")\n",
    "print(stdev_x)\n",
    "mean_y = np.mean(y)\n",
    "print(\"\\nMean of y\")\n",
    "print(mean_y)\n",
    "stdev_y = np.std(y)\n",
    "print(\"\\nStandard deviation of y\")\n",
    "print(stdev_y)"
   ]
  },
  {
   "cell_type": "markdown",
   "metadata": {
    "deletable": false,
    "editable": false,
    "nbgrader": {
     "checksum": "12a2717f05680c0404067457f21dacc5",
     "grade": false,
     "grade_id": "cell-3cc076ae39753881",
     "locked": true,
     "schema_version": 1,
     "solution": false
    }
   },
   "source": [
    "#### d) [0.5 points] Use your knowledge of statistics to explain the relations (i) between the means of `x` and `y` and (ii) between the standard deviations of `x` and `y`."
   ]
  },
  {
   "cell_type": "code",
   "execution_count": 8,
   "metadata": {
    "deletable": false,
    "nbgrader": {
     "checksum": "6ac5f7f87f79a5a580298b70eb6603c6",
     "grade": true,
     "grade_id": "cell-0f18e4fded25833f",
     "locked": false,
     "points": 0.5,
     "schema_version": 1,
     "solution": true
    }
   },
   "outputs": [
    {
     "name": "stdout",
     "output_type": "stream",
     "text": [
      "\n",
      "Covariance of x and y\n",
      "[[ 0.33150444  0.99451332]\n",
      " [ 0.99451332  2.98353996]]\n",
      "\n",
      "Correlation coefficient between x and y\n",
      "[[ 1.  1.]\n",
      " [ 1.  1.]]\n",
      "\n",
      "Pearsons correlation coefficient\n",
      "[[ 0.33670034  1.01010101]\n",
      " [ 1.01010101  3.03030303]]\n"
     ]
    }
   ],
   "source": [
    "cov = np.cov(x,y)\n",
    "print('\\nCovariance of x and y')\n",
    "print(cov)\n",
    "#the covariance shows that there is a positive relation between the means of x and y, because the cov is above 0 (cov = 1.00017414)\n",
    "#this implies that the variables x and y, change in the same direction\n",
    "\n",
    "corcoef=np.corrcoef(x,y)\n",
    "print('\\nCorrelation coefficient between x and y')\n",
    "print(corcoef)\n",
    "#the correlation coefficient implies that between x and y there is a perfect positive linear relation.\n",
    "#For every increase of x by 1, y will increase by 1 (correlation coefficient is based on the stdev's of x and y)\n",
    "#Therefore the relation between the stdev of x and y is perfectly positivly linear (=1)\n",
    "\n",
    "pearsons = cov/((stdev_x)*(stdev_y))\n",
    "print('\\nPearsons correlation coefficient')\n",
    "print(pearsons)"
   ]
  },
  {
   "cell_type": "markdown",
   "metadata": {},
   "source": [
    "#### e) [1 point] Plot a histogram of `x` with fractions (not absolute numbers) on the vertical axis. Add the label $x$ to the horizontal axis."
   ]
  },
  {
   "cell_type": "code",
   "execution_count": 9,
   "metadata": {
    "deletable": false,
    "nbgrader": {
     "checksum": "0f23770a6c058f433beccc75429b57dc",
     "grade": true,
     "grade_id": "cell-e88dc4842fb2c38c",
     "locked": false,
     "points": 1,
     "schema_version": 1,
     "solution": true
    }
   },
   "outputs": [
    {
     "data": {
      "image/png": "[encoded data removed]",
      "text/plain": [
       "<matplotlib.figure.Figure at 0x7f04c814f588>"
      ]
     },
     "metadata": {},
     "output_type": "display_data"
    }
   ],
   "source": [
    "plt.hist(x, bins=30, normed=True, alpha=0.5, label='histogram of x')\n",
    "plt.xlabel('x')\n",
    "plt.title('histogram of x')\n",
    "plt.show()"
   ]
  },
  {
   "cell_type": "markdown",
   "metadata": {
    "deletable": false,
    "editable": false,
    "nbgrader": {
     "checksum": "da92092c0fc6badf93776373de6f98c0",
     "grade": false,
     "grade_id": "cell-9847a5147fc6bc0b",
     "locked": true,
     "schema_version": 1,
     "solution": false
    }
   },
   "source": [
    "#### f) [0.5 points] Make a scatter plot of `y` vs `z` with the label $y$ on the horizontal axis and the label $z$ on the vertical axis."
   ]
  },
  {
   "cell_type": "code",
   "execution_count": 10,
   "metadata": {
    "deletable": false,
    "nbgrader": {
     "checksum": "d9385c965608e0babffe255a7d375e19",
     "grade": true,
     "grade_id": "cell-6c036cfb38c024d3",
     "locked": false,
     "points": 0.5,
     "schema_version": 1,
     "solution": true
    }
   },
   "outputs": [
    {
     "data": {
      "image/png": "[encoded data removed]",
      "text/plain": [
       "<matplotlib.figure.Figure at 0x7f04c80514a8>"
      ]
     },
     "metadata": {},
     "output_type": "display_data"
    }
   ],
   "source": [
    "plt.scatter(y,z, color ='r', label='scatter plot of y vs z')\n",
    "plt.xlabel('y')\n",
    "plt.ylabel('z')\n",
    "plt.title('scatter plot of y vs z')\n",
    "plt.show()"
   ]
  },
  {
   "cell_type": "markdown",
   "metadata": {},
   "source": [
    "This relation looks rather \"perfect\". We want to make a \"noisy\" version of this graph.\n",
    "\n",
    "#### g) [0.5 points] Create a variable `z2` equal to `z` but with some \"noise\" added to it. That is, add a random variable (vector) with mean 0 to `z` to get `z2`. Then plot `y` against `z2`. Adjust the standard deviation of the \"noise\" variable such that the shape of the figure under f) can still be recognized but not perfectly.\n",
    "\n",
    "[hint: under a) you have seen the library that contains functions to create a \"noisy variable\"]"
   ]
  },
  {
   "cell_type": "code",
   "execution_count": 11,
   "metadata": {
    "deletable": false,
    "nbgrader": {
     "checksum": "86b22fc81cb0732c67f8ae691dc00bcb",
     "grade": true,
     "grade_id": "cell-7fa47e5d66a06417",
     "locked": false,
     "points": 0.5,
     "schema_version": 1,
     "solution": true
    }
   },
   "outputs": [
    {
     "data": {
      "image/png": "[encoded data removed]",
      "text/plain": [
       "<matplotlib.figure.Figure at 0x7f04c8041128>"
      ]
     },
     "metadata": {},
     "output_type": "display_data"
    }
   ],
   "source": [
    "#z = (x-1)**2\n",
    "z2 = z + np.random.normal(0,1, size=n_observations)\n",
    "df['z2'] = z2\n",
    "\n",
    "plt.scatter(y,z2, color ='r', label='scatter plot of y vs z2')\n",
    "plt.xlabel('y')\n",
    "plt.ylabel('z2')\n",
    "plt.title('scatter plot of y vs z2')\n",
    "plt.show()"
   ]
  },
  {
   "cell_type": "markdown",
   "metadata": {},
   "source": [
    "I couldn't get the figure to look like in f, with adjusting the standard deviation of the 'noise'. I had no idea what to do..."
   ]
  },
  {
   "cell_type": "markdown",
   "metadata": {},
   "source": [
    "## Github\n",
    "\n",
    "After you have finished, we need to upload this notebook on github."
   ]
  },
  {
   "cell_type": "markdown",
   "metadata": {},
   "source": [
    "Instructions on how to upload this on github can be found [on this page](http://janboone.github.io/programming-for-economists/github.html). This page has two screencasts: one shows how to drag the notebook onto your github page, the other shows how you can use the command line to upload your notebook.\n"
   ]
  },
  {
   "cell_type": "markdown",
   "metadata": {},
   "source": [
    "Remember to update the README file in your repository to include a link to this notebook on github.\n",
    "\n",
    "\n",
    "The links that you should post start with “github.com/” and are NOT of the form “http://localhost”. Make sure you test your links after uploading."
   ]
  },
  {
   "cell_type": "code",
   "execution_count": 12,
   "metadata": {},
   "outputs": [
    {
     "ename": "SyntaxError",
     "evalue": "invalid syntax (<ipython-input-12-482f45fdc687>, line 1)",
     "output_type": "error",
     "traceback": [
      "\u001b[0;36m  File \u001b[0;32m\"<ipython-input-12-482f45fdc687>\"\u001b[0;36m, line \u001b[0;32m1\u001b[0m\n\u001b[0;31m    https://github.com/SaraManders/exam_sep_21/blob/master/README.md\u001b[0m\n\u001b[0m         ^\u001b[0m\n\u001b[0;31mSyntaxError\u001b[0m\u001b[0;31m:\u001b[0m invalid syntax\n"
     ]
    }
   ],
   "source": [
    "https://github.com/SaraManders/exam_sep_21/blob/master/README.md"
   ]
  }
 ],
 "metadata": {
  "anaconda-cloud": {},
  "kernelspec": {
   "display_name": "Python 3",
   "language": "python",
   "name": "python3"
  },
  "language_info": {
   "codemirror_mode": {
    "name": "ipython",
    "version": 3
   },
   "file_extension": ".py",
   "mimetype": "text/x-python",
   "name": "python",
   "nbconvert_exporter": "python",
   "pygments_lexer": "ipython3",
   "version": "3.5.3"
  }
 },
 "nbformat": 4,
 "nbformat_minor": 1
}
